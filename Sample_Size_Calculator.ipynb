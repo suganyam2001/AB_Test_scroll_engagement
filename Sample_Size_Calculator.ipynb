{
 "cells": [
  {
   "cell_type": "markdown",
   "id": "853ec40b-4c20-49b6-a0aa-f519ae38aed4",
   "metadata": {},
   "source": [
    "# Introduction"
   ]
  },
  {
   "cell_type": "markdown",
   "id": "e9ed0138-53eb-4f65-9f20-0e2b6316a4ef",
   "metadata": {},
   "source": [
    "In this report, we’re looking at the hypothesis we’ve chosen to perform AB testing on HI website. The hypothesis chosen is: **partial visibility of additional page content (below banner)**.  \n",
    "One of the factors influencing this decision is the assumption that current page design may contribute to users not scrolling,likely due to a full-sized hero banner."
   ]
  },
  {
   "cell_type": "markdown",
   "id": "ee0e0db8-203a-4ea4-9258-7f11b51c7fb2",
   "metadata": {
    "jp-MarkdownHeadingCollapsed": true
   },
   "source": [
    "## EDA"
   ]
  },
  {
   "cell_type": "code",
   "execution_count": 1,
   "id": "fae79638-0941-4f26-a9a5-dc84d0795574",
   "metadata": {},
   "outputs": [],
   "source": [
    "import pandas as pd\n",
    "import numpy as np\n",
    "import matplotlib.pyplot as plt\n",
    "import seaborn as sns\n",
    "import scipy.stats as stats\n",
    "from scipy.stats import norm\n",
    "import math"
   ]
  },
  {
   "cell_type": "code",
   "execution_count": 2,
   "id": "a0ecc5f8-5ae3-4ab3-8db3-9b41444452cb",
   "metadata": {},
   "outputs": [],
   "source": [
    "# Load the dataset\n",
    "data = pd.read_csv(\"sample_data_pre-analysis_hyper_DA.csv\")"
   ]
  },
  {
   "cell_type": "code",
   "execution_count": 3,
   "id": "82f7c4f6-d2fb-40de-8e5a-119525410dbc",
   "metadata": {},
   "outputs": [],
   "source": [
    "# Calculating the Current Scroll Rate (Baseline Conversion Rate)\n",
    "total_sessions = len(data)  # Total sessions\n",
    "scrolled_sessions = data[\"scrolled_down\"].sum()  # Users who scrolled\n",
    "scroll_rate = scrolled_sessions / total_sessions  # Current scroll rate"
   ]
  },
  {
   "cell_type": "code",
   "execution_count": 4,
   "id": "88428816-2a47-435e-8abb-88c7bb298550",
   "metadata": {},
   "outputs": [
    {
     "name": "stdout",
     "output_type": "stream",
     "text": [
      "total sessions =2000\n",
      "Scrolled sessions =506\n",
      "Scroll rate =0.253\n"
     ]
    }
   ],
   "source": [
    "print(f\"total sessions ={total_sessions}\")\n",
    "print(f\"Scrolled sessions ={scrolled_sessions}\")\n",
    "print(f\"Scroll rate ={scroll_rate}\")"
   ]
  },
  {
   "cell_type": "code",
   "execution_count": 5,
   "id": "71f5d564-94b4-45ed-a858-e2c073e6ce05",
   "metadata": {},
   "outputs": [],
   "source": [
    "# Define Expected Uplift & New Scroll Rate\n",
    "expected_uplift = 0.40  # Assumption\n",
    "target_scroll_rate = (scroll_rate * (1 + expected_uplift))  # Target expected scroll rate after uplift"
   ]
  },
  {
   "cell_type": "code",
   "execution_count": 11,
   "id": "b06a98cd-73b6-4d15-b213-199c07edb06c",
   "metadata": {},
   "outputs": [],
   "source": [
    "# Step 3: Calculate Sample Size Using Z-Test Formula\n",
    "alpha = 0.05  # Significance level (5% for a 95% confidence level)\n",
    "beta = 0.20  # 1 - Power (80% power)\n",
    "z_alpha = stats.norm.ppf(1 - alpha / 2)  # Z-score for 95% confidence\n",
    "z_beta = stats.norm.ppf(1 - beta)  # Z-score for 80% power"
   ]
  },
  {
   "cell_type": "code",
   "execution_count": 13,
   "id": "354dddc1-30a7-4d55-9264-18977c90da41",
   "metadata": {},
   "outputs": [
    {
     "name": "stdout",
     "output_type": "stream",
     "text": [
      "z_alpha =1.96\n",
      "z_beta =0.84\n"
     ]
    }
   ],
   "source": [
    "print(f\"z_alpha ={z_alpha:.2f}\")\n",
    "print(f\"z_beta ={z_beta:.2f}\")"
   ]
  },
  {
   "cell_type": "code",
   "execution_count": 15,
   "id": "865215b0-61c2-4523-a86d-596c4fb3435d",
   "metadata": {},
   "outputs": [],
   "source": [
    "# Proportion calculation\n",
    "p1 = scroll_rate  # Baseline scroll rate\n",
    "p2 = target_scroll_rate  # Expected scroll rate after uplift\n",
    "p = (p1 + p2) / 2 # proportion(Baseline and Target scroll rate)"
   ]
  },
  {
   "cell_type": "code",
   "execution_count": 17,
   "id": "b8ad71b4-e360-480f-9266-7117b695133d",
   "metadata": {},
   "outputs": [
    {
     "name": "stdout",
     "output_type": "stream",
     "text": [
      "Baseline scroll rate =0.253\n",
      "Expected scroll rate after uplift = 0.35\n",
      "proportion = 0.3036\n"
     ]
    }
   ],
   "source": [
    "print(f\"Baseline scroll rate ={scroll_rate}\")\n",
    "print(f\"Expected scroll rate after uplift = {target_scroll_rate:.2f}\")\n",
    "print(f\"proportion = {p}\")"
   ]
  },
  {
   "cell_type": "code",
   "execution_count": 19,
   "id": "7d179f8d-4b2e-426a-91b1-1696f785693e",
   "metadata": {},
   "outputs": [],
   "source": [
    "# Sample size calculation formula\n",
    "sample_size_per_variant = ((z_alpha * math.sqrt(2 * p * (1 - p)) + z_beta * math.sqrt(p1 * (1 - p1) + p2 * (1 - p2))) ** 2) / ((p2 - p1) ** 2)\n",
    "sample_size_per_variant = math.ceil(sample_size_per_variant)  # To round up to nearest whole number\n",
    "total_sample_size = sample_size_per_variant * 2  # A/B test for both control & variant groups"
   ]
  },
  {
   "cell_type": "code",
   "execution_count": 21,
   "id": "c63137b2-6250-4119-8270-5a2743bf61b6",
   "metadata": {},
   "outputs": [
    {
     "name": "stdout",
     "output_type": "stream",
     "text": [
      "sample_size_per_variant =323\n",
      "total_sample_size =646\n"
     ]
    }
   ],
   "source": [
    "print(f\"sample_size_per_variant ={sample_size_per_variant}\")\n",
    "print(f\"total_sample_size ={total_sample_size}\")"
   ]
  },
  {
   "cell_type": "code",
   "execution_count": 23,
   "id": "7fce5abb-e39a-4f23-b066-539de84c6994",
   "metadata": {},
   "outputs": [],
   "source": [
    "# Estimate Test Duration (Based on traffic)\n",
    "\n",
    "# Calculate daily traffic from the dataset\n",
    "daily_traffic = (total_sessions / len(data[\"session_date\"].unique())) # Approximate daily visitors\n",
    "test_duration_days = (total_sample_size / daily_traffic ) # Days required for the test"
   ]
  },
  {
   "cell_type": "code",
   "execution_count": 25,
   "id": "334d81fd-be75-49e4-ba89-1fc1df43c8b5",
   "metadata": {},
   "outputs": [
    {
     "name": "stdout",
     "output_type": "stream",
     "text": [
      "daily_traffic =35.71\n",
      "test_duration_days =18.09\n"
     ]
    }
   ],
   "source": [
    "print(f\"daily_traffic ={daily_traffic:.2f}\")\n",
    "print(f\"test_duration_days ={test_duration_days:.2f}\")"
   ]
  },
  {
   "cell_type": "code",
   "execution_count": 27,
   "id": "9f050c2d-38ca-4e41-a462-d37895669b0d",
   "metadata": {},
   "outputs": [],
   "source": [
    "# Minimum detectable effect\n",
    "MDE = (target_scroll_rate -scroll_rate)"
   ]
  },
  {
   "cell_type": "code",
   "execution_count": 29,
   "id": "b09e8eb5-2aec-4ac7-9268-c525c6a44304",
   "metadata": {},
   "outputs": [
    {
     "name": "stdout",
     "output_type": "stream",
     "text": [
      "standard error = 0.036\n"
     ]
    }
   ],
   "source": [
    "# Standard Error\n",
    "n1 = sample_size_per_variant\n",
    "n2 = sample_size_per_variant\n",
    "SE = math.sqrt(((p1 * (1 - p1))/n1) + ((p2 * (1 - p2))/n2))\n",
    "print(f\"standard error = {SE:.3f}\")"
   ]
  },
  {
   "cell_type": "code",
   "execution_count": 31,
   "id": "9c0ecb5c-00ee-444e-b2bc-1da7fb638486",
   "metadata": {},
   "outputs": [
    {
     "name": "stdout",
     "output_type": "stream",
     "text": [
      "Confidence intervals: (0.03, 0.17)\n"
     ]
    }
   ],
   "source": [
    "# Confidence Interval\n",
    "CI_lower  = (p2 -p1) - (z_alpha * SE)\n",
    "CI_upper  = (p2 -p1) + (z_alpha * SE)\n",
    "print(f\"Confidence intervals: ({CI_lower:.2f}, {CI_upper:.2f})\")"
   ]
  },
  {
   "cell_type": "code",
   "execution_count": 33,
   "id": "61a5b0c9-b855-4201-b356-e772c808f849",
   "metadata": {},
   "outputs": [
    {
     "name": "stdout",
     "output_type": "stream",
     "text": [
      "Current Scroll Rate: 25.30%\n",
      "Target Scroll Rate (after 40.0% uplift): 35.42%\n",
      "Sample Size per Variant: 323\n",
      "Minimum detectable effect:0.10\n",
      "Total Sample Size (A + B): 646\n",
      "Estimated Test Duration (in days): 18.09\n",
      "Standard Error:0.036\n",
      "Confidence intervals: (0.03, 0.17)\n"
     ]
    }
   ],
   "source": [
    "# Print the results\n",
    "print(f\"Current Scroll Rate: {scroll_rate*100:.2f}%\")\n",
    "print(f\"Target Scroll Rate (after {expected_uplift*100}% uplift): {target_scroll_rate*100:.2f}%\")\n",
    "print(f\"Sample Size per Variant: {sample_size_per_variant}\")\n",
    "print(f\"Minimum detectable effect:{MDE:.2f}\")\n",
    "print(f\"Total Sample Size (A + B): {total_sample_size}\")\n",
    "print(f\"Estimated Test Duration (in days): {test_duration_days:.2f}\")\n",
    "print(f\"Standard Error:{round(SE,4)}\")\n",
    "print(f\"Confidence intervals: ({CI_lower:.2f}, {CI_upper:.2f})\")"
   ]
  },
  {
   "cell_type": "markdown",
   "id": "5040ff73-613b-4d1f-8165-bf599ebde9c9",
   "metadata": {},
   "source": [
    "### What could be a second iteration of this experiment if the result from the A/B test would give you a significant uplift? How could you improve it even further?"
   ]
  },
  {
   "cell_type": "code",
   "execution_count": 36,
   "id": "fc202f92-0b6e-4bbf-8cf5-ccbb02c6eb1e",
   "metadata": {},
   "outputs": [
    {
     "data": {
      "text/plain": [
       "traffic_source\n",
       "Direct            501\n",
       "Organic Search    693\n",
       "Paid Ads          806\n",
       "Name: session_date, dtype: int64"
      ]
     },
     "execution_count": 36,
     "metadata": {},
     "output_type": "execute_result"
    }
   ],
   "source": [
    "traffic_source_group = data.groupby(\"traffic_source\")[\"session_date\"].count()\n",
    "traffic_source_group"
   ]
  },
  {
   "cell_type": "code",
   "execution_count": 38,
   "id": "0f41d096-8afd-4dc6-8318-091f9a1bfc0f",
   "metadata": {},
   "outputs": [
    {
     "data": {
      "text/plain": [
       "traffic_source\n",
       "Direct            24.550898\n",
       "Organic Search    25.252525\n",
       "Paid Ads          25.806452\n",
       "Name: scrolled_down, dtype: float64"
      ]
     },
     "execution_count": 38,
     "metadata": {},
     "output_type": "execute_result"
    }
   ],
   "source": [
    "scroll_rate_source = data.groupby(\"traffic_source\")[\"scrolled_down\"].mean() * 100\n",
    "scroll_rate_source"
   ]
  },
  {
   "cell_type": "code",
   "execution_count": 40,
   "id": "331b1dfd-7668-47c2-b379-82fe3c32cb1f",
   "metadata": {},
   "outputs": [
    {
     "data": {
      "text/html": [
       "<div>\n",
       "<style scoped>\n",
       "    .dataframe tbody tr th:only-of-type {\n",
       "        vertical-align: middle;\n",
       "    }\n",
       "\n",
       "    .dataframe tbody tr th {\n",
       "        vertical-align: top;\n",
       "    }\n",
       "\n",
       "    .dataframe thead th {\n",
       "        text-align: right;\n",
       "    }\n",
       "</style>\n",
       "<table border=\"1\" class=\"dataframe\">\n",
       "  <thead>\n",
       "    <tr style=\"text-align: right;\">\n",
       "      <th></th>\n",
       "      <th>traffic_source</th>\n",
       "      <th>visitors</th>\n",
       "      <th>scroll rate (%)</th>\n",
       "    </tr>\n",
       "  </thead>\n",
       "  <tbody>\n",
       "    <tr>\n",
       "      <th>0</th>\n",
       "      <td>Direct</td>\n",
       "      <td>501</td>\n",
       "      <td>24.55</td>\n",
       "    </tr>\n",
       "    <tr>\n",
       "      <th>1</th>\n",
       "      <td>Organic Search</td>\n",
       "      <td>693</td>\n",
       "      <td>25.25</td>\n",
       "    </tr>\n",
       "    <tr>\n",
       "      <th>2</th>\n",
       "      <td>Paid Ads</td>\n",
       "      <td>806</td>\n",
       "      <td>25.81</td>\n",
       "    </tr>\n",
       "  </tbody>\n",
       "</table>\n",
       "</div>"
      ],
      "text/plain": [
       "   traffic_source  visitors  scroll rate (%)\n",
       "0          Direct       501            24.55\n",
       "1  Organic Search       693            25.25\n",
       "2        Paid Ads       806            25.81"
      ]
     },
     "execution_count": 40,
     "metadata": {},
     "output_type": "execute_result"
    }
   ],
   "source": [
    "# Combining the two into a single DataFrame\n",
    "source_scroll_rate = pd.DataFrame({\n",
    "    \"visitors\": traffic_source_group,\n",
    "    \"scroll rate (%)\": round(scroll_rate_source,2)\n",
    "})\n",
    "source_scroll_rate.reset_index()"
   ]
  },
  {
   "cell_type": "code",
   "execution_count": 42,
   "id": "24f08345-baec-4eb7-ba9d-eeac2d4f4cf7",
   "metadata": {},
   "outputs": [
    {
     "data": {
      "text/html": [
       "<div>\n",
       "<style scoped>\n",
       "    .dataframe tbody tr th:only-of-type {\n",
       "        vertical-align: middle;\n",
       "    }\n",
       "\n",
       "    .dataframe tbody tr th {\n",
       "        vertical-align: top;\n",
       "    }\n",
       "\n",
       "    .dataframe thead th {\n",
       "        text-align: right;\n",
       "    }\n",
       "</style>\n",
       "<table border=\"1\" class=\"dataframe\">\n",
       "  <thead>\n",
       "    <tr style=\"text-align: right;\">\n",
       "      <th></th>\n",
       "      <th>device_type</th>\n",
       "      <th>vsitors</th>\n",
       "      <th>scroll rate (%)</th>\n",
       "    </tr>\n",
       "  </thead>\n",
       "  <tbody>\n",
       "    <tr>\n",
       "      <th>0</th>\n",
       "      <td>Desktop</td>\n",
       "      <td>797</td>\n",
       "      <td>16.06</td>\n",
       "    </tr>\n",
       "    <tr>\n",
       "      <th>1</th>\n",
       "      <td>Mobile</td>\n",
       "      <td>1203</td>\n",
       "      <td>31.42</td>\n",
       "    </tr>\n",
       "  </tbody>\n",
       "</table>\n",
       "</div>"
      ],
      "text/plain": [
       "  device_type  vsitors  scroll rate (%)\n",
       "0     Desktop      797            16.06\n",
       "1      Mobile     1203            31.42"
      ]
     },
     "execution_count": 42,
     "metadata": {},
     "output_type": "execute_result"
    }
   ],
   "source": [
    "device_type_group = data.groupby(\"device_type\")[\"session_date\"].count()\n",
    "scroll_rate_decice_type = data.groupby(\"device_type\")[\"scrolled_down\"].mean() * 100\n",
    "# Combining the two into a single DataFrame\n",
    "device_scroll_rate = pd.DataFrame({\n",
    "    \"vsitors\": device_type_group,\n",
    "    \"scroll rate (%)\": round(scroll_rate_decice_type,2)\n",
    "})\n",
    "device_scroll_rate.reset_index()"
   ]
  },
  {
   "cell_type": "code",
   "execution_count": 44,
   "id": "8f83f91a-1852-45cb-b4f0-d0e098f63a78",
   "metadata": {},
   "outputs": [],
   "source": [
    "# CTA\n",
    "CTA_sessions = data[\"clicked_download_syllabus\"].sum()  # Users who scrolled\n",
    "CTA_rate = CTA_sessions / total_sessions  # Current scroll rate"
   ]
  },
  {
   "cell_type": "code",
   "execution_count": 46,
   "id": "dad705a8-b388-4280-8128-c5c1ad8bb96a",
   "metadata": {},
   "outputs": [
    {
     "name": "stdout",
     "output_type": "stream",
     "text": [
      "total sessions =2000\n",
      "CTA sessions =194\n",
      "CTA rate =0.097\n"
     ]
    }
   ],
   "source": [
    "print(f\"total sessions ={total_sessions}\")\n",
    "print(f\"CTA sessions ={CTA_sessions}\")\n",
    "print(f\"CTA rate ={CTA_rate}\")"
   ]
  },
  {
   "cell_type": "code",
   "execution_count": 48,
   "id": "9e4da65c-6e9c-4670-a57e-323db1011e5a",
   "metadata": {},
   "outputs": [
    {
     "name": "stdout",
     "output_type": "stream",
     "text": [
      "device_type\n",
      "Desktop    16.060226\n",
      "Mobile     31.421446\n",
      "Name: scrolled_down, dtype: float64\n",
      "device_type\n",
      "Desktop    9.284818\n",
      "Mobile     9.975062\n",
      "Name: clicked_download_syllabus, dtype: float64\n"
     ]
    }
   ],
   "source": [
    "device_scroll_rate = data.groupby(\"device_type\")[\"scrolled_down\"].mean() * 100\n",
    "device_CTA_rate = data.groupby(\"device_type\")[\"clicked_download_syllabus\"].mean() * 100\n",
    "\n",
    "print(device_scroll_rate)\n",
    "print(device_CTA_rate)"
   ]
  },
  {
   "cell_type": "code",
   "execution_count": 50,
   "id": "7c6a516f-2aef-4d58-b19f-a6768e82c948",
   "metadata": {},
   "outputs": [
    {
     "name": "stdout",
     "output_type": "stream",
     "text": [
      "cta_scroll_rate =0.5\n",
      "total CTA =194\n",
      "total visitors(CTA AND scroll) =97\n",
      "Percentage of CTA users who also scrolled: 50.00%\n"
     ]
    }
   ],
   "source": [
    "cta_and_scrolled = data[(data[\"clicked_download_syllabus\"] == 1) & (data[\"scrolled_down\"] == 1)]\n",
    "cta_scroll_rate = len(cta_and_scrolled) / CTA_sessions\n",
    "\n",
    "print(f\"cta_scroll_rate ={cta_scroll_rate}\")\n",
    "print(f\"total CTA ={CTA_sessions}\")\n",
    "print(f\"total visitors(CTA AND scroll) ={len(cta_and_scrolled)}\")\n",
    "print(f\"Percentage of CTA users who also scrolled: {cta_scroll_rate * 100:.2f}%\")"
   ]
  },
  {
   "cell_type": "code",
   "execution_count": 52,
   "id": "1eb24f86-9f9d-4d0b-a2c7-be6ebe723e6b",
   "metadata": {},
   "outputs": [
    {
     "name": "stdout",
     "output_type": "stream",
     "text": [
      "Correlation: 0.18621659607155194, P-value: 4.611831164356036e-17\n"
     ]
    }
   ],
   "source": [
    "# correlataion between scroll and CTA :\n",
    "corr, p_value = stats.pearsonr(data[\"scrolled_down\"], data[\"clicked_download_syllabus\"])\n",
    "print(f\"Correlation: {corr}, P-value: {p_value}\")"
   ]
  },
  {
   "cell_type": "markdown",
   "id": "5778ddbd-24c2-40c6-8a7c-728757a9f70a",
   "metadata": {
    "jp-MarkdownHeadingCollapsed": true
   },
   "source": [
    "# Results from the experiment:"
   ]
  },
  {
   "cell_type": "code",
   "execution_count": 55,
   "id": "05eb4028-fa54-4d2a-bc1d-86b326b1ec8b",
   "metadata": {},
   "outputs": [
    {
     "name": "stdout",
     "output_type": "stream",
     "text": [
      "Current Scroll Rate: 25.30%\n",
      "Target Scroll Rate (after 40.0% uplift): 35.42%\n",
      "Sample Size per Variant: 323\n",
      "Minimum detectable effect:0.10\n",
      "Total Sample Size (A + B): 646\n",
      "Estimated Test Duration (in days): 18.09\n",
      "Standard Error:0.036\n",
      "Confidence intervals: (0.03, 0.17)\n"
     ]
    }
   ],
   "source": [
    "\n",
    "print(f\"Current Scroll Rate: {scroll_rate*100:.2f}%\")\n",
    "print(f\"Target Scroll Rate (after {expected_uplift*100}% uplift): {target_scroll_rate*100:.2f}%\")\n",
    "print(f\"Sample Size per Variant: {sample_size_per_variant}\")\n",
    "print(f\"Minimum detectable effect:{MDE:.2f}\")\n",
    "print(f\"Total Sample Size (A + B): {total_sample_size}\")\n",
    "print(f\"Estimated Test Duration (in days): {test_duration_days:.2f}\")\n",
    "print(f\"Standard Error:{round(SE,4)}\")\n",
    "print(f\"Confidence intervals: ({CI_lower:.2f}, {CI_upper:.2f})\")"
   ]
  },
  {
   "cell_type": "code",
   "execution_count": 57,
   "id": "21186667-b929-408c-a431-a5fed5482223",
   "metadata": {},
   "outputs": [
    {
     "name": "stdout",
     "output_type": "stream",
     "text": [
      "Effect size: 0.10\n",
      "P-value: 0.0049\n",
      "Result is statistically significant.\n"
     ]
    }
   ],
   "source": [
    "# Statistical significance test:\n",
    "\n",
    "# Calculate Z-score\n",
    "effect_size = target_scroll_rate - scroll_rate  # Difference in proportions\n",
    "z_score = effect_size / SE\n",
    "\n",
    "# Compute P-value (two-tailed test)\n",
    "p_value = 2 * (1 - stats.norm.cdf(abs(z_score)))\n",
    "\n",
    "# results\n",
    "print(f\"Effect size: {effect_size:.2f}\")\n",
    "#print(f\"Z-score: {z_score:.2f}\")\n",
    "print(f\"P-value: {p_value:.4f}\")\n",
    "\n",
    "# Check significance\n",
    "if p_value < 0.05:\n",
    "    print(\"Result is statistically significant.\")\n",
    "else:\n",
    "    print(\"Result is NOT statistically significant.\")"
   ]
  },
  {
   "cell_type": "code",
   "execution_count": 59,
   "id": "3d0e7960-f252-40cc-a05b-238a8f5b9002",
   "metadata": {},
   "outputs": [
    {
     "data": {
      "image/png": "[encoded data removed]",
      "text/plain": [
       "<Figure size 800x500 with 1 Axes>"
      ]
     },
     "metadata": {},
     "output_type": "display_data"
    }
   ],
   "source": [
    "# Generate x values\n",
    "x = np.linspace(-0.008, 0.208, 1000)\n",
    "x = np.linspace(effect_size - (3*SE), effect_size +  (3*SE), 1000)\n",
    "\n",
    "# Normal distribution for effect size\n",
    "y = norm.pdf(x, effect_size, SE)\n",
    "\n",
    "# Plot distribution\n",
    "plt.figure(figsize=(8, 5))\n",
    "sns.lineplot(x=x, y=y, color=\"blue\", label=\"Effect Size Distribution\")\n",
    "\n",
    "# Highlight confidence interval\n",
    "plt.fill_between(x, y, where=(x >= CI_lower) & (x <= CI_upper), color=\"blue\", alpha=0.3, label=\"Confidence Interval\")\n",
    "\n",
    "# Mark effect size\n",
    "plt.axvline(effect_size, color=\"red\", linestyle=\"dashed\", label=\"Effect Size\")\n",
    "\n",
    "# Mark confidence interval bounds\n",
    "plt.axvline(CI_lower, color=\"green\", linestyle=\"dashed\", label=f\"CI lower_bound ({CI_lower:.2f})\")\n",
    "plt.axvline(CI_upper, color=\"green\", linestyle=\"dashed\", label=f\"CI upper_bound ({CI_upper:.2f})\")\n",
    "\n",
    "# Annotate p-value\n",
    "plt.text(0.12, max(y) * 0.8, f\"p-value: {p_value:.4f}\", fontsize=12, color=\"black\", \n",
    "         bbox=dict(facecolor=\"white\", edgecolor=\"black\", boxstyle=\"round,pad=0.3\"))\n",
    "\n",
    "# Labels and title\n",
    "plt.xlabel(\"Effect size\")\n",
    "plt.ylabel(\"Density\")\n",
    "plt.title(\"Distribution of Effect with Confidence Interval\")\n",
    "plt.legend(loc=\"upper left\", bbox_to_anchor=(1, 1))\n",
    "\n",
    "plt.grid(True)\n",
    "\n",
    "# Show plot\n",
    "plt.show()"
   ]
  },
  {
   "cell_type": "markdown",
   "id": "bde5b8b1-b237-4a8f-b4ff-d926aec86b70",
   "metadata": {},
   "source": [
    "# Findings:"
   ]
  },
  {
   "cell_type": "markdown",
   "id": "da320174-09d0-4074-9b9e-cdc43ba128d6",
   "metadata": {},
   "source": [
    "The <u>current scroll rate</u> is **25.30%**, and the target scroll rate (after a 40% uplift) is **35.42%**.\n",
    "\n",
    "The <u>effect size</u> is **0.10 (10 percentage points)**, meaning the new variant increased the scroll rate by this amount.\n",
    "\n",
    "The **P-value is 0.0049**, which is below 0.05, indicating statistical significance.\n",
    "\n",
    "The <u>95% confidence interval</u> is **(0.03, 0.17)**, meaning the true effect likely falls within this range.\n",
    "\n",
    "The standard error of 0.036 suggests reasonable variability in the data.\n",
    "\n",
    "The estimated test duration is **18.09 days**, and the total sample size is **646 users (323 per variant)**."
   ]
  },
  {
   "cell_type": "markdown",
   "id": "2b5485e8-9e7a-436f-80fb-5e0a8d783bec",
   "metadata": {},
   "source": [
    "**Additional Insights:**  \n",
    "- <u>Traffic Source Impact:</u> **Paid Ads** traffic showed **the highest engagement (scroll rate = 25.81%)**, followed by Organic Search and Direct traffic.\n",
    "\n",
    "- <u>Device Type Influence:</u> Mobile users had a significantly higher scroll rate (31.42%) than desktop users (16.06%).\n",
    "\n",
    "- <u>CTA & Scroll Correlation:</u> Users who clicked the \"Download Syllabus\" CTA were more likely to have scrolled **(50% of CTA users also scrolled)**."
   ]
  },
  {
   "cell_type": "markdown",
   "id": "7d4c738f-a764-43df-b4fd-ea68c6954931",
   "metadata": {},
   "source": [
    "## Recommendations:"
   ]
  },
  {
   "cell_type": "markdown",
   "id": "5910cc12-9a48-434a-915b-2c8bd7fae34c",
   "metadata": {},
   "source": [
    "<u>Implement the new variant:</u>  \n",
    "Since the test results are statistically significant, the new version significantly improves the scroll rate. It should be rolled out to all users.  \n",
    "<u>Monitor post-implementation performance:</u>  \n",
    "Continue tracking the scroll rate after deployment to ensure the uplift is sustained in real-world conditions.  \n",
    "<u>Further optimization opportunities:</u>  \n",
    "The confidence interval suggests the impact could be higher. Considering the additional refinements, such as traffic source(paid ads) promotions, regional content for international users and optimizing the \"Downlaod syllabus CTA with single click to maximize the user interaction.  \n",
    "<u>Run follow-up experiments:</u>  \n",
    "Test additional variations to identify further enhancements and validate long-term improvements."
   ]
  }
 ],
 "metadata": {
  "kernelspec": {
   "display_name": "Python 3 (ipykernel)",
   "language": "python",
   "name": "python3"
  },
  "language_info": {
   "codemirror_mode": {
    "name": "ipython",
    "version": 3
   },
   "file_extension": ".py",
   "mimetype": "text/x-python",
   "name": "python",
   "nbconvert_exporter": "python",
   "pygments_lexer": "ipython3",
   "version": "3.12.4"
  }
 },
 "nbformat": 4,
 "nbformat_minor": 5
}
